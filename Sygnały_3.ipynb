{
 "cells": [
  {
   "cell_type": "code",
   "execution_count": 1,
   "metadata": {},
   "outputs": [],
   "source": [
    "from IPython.display import YouTubeVideo\n",
    "from IPython.display import Video\n",
    "from ipywidgets import interact\n",
    "import matplotlib.pyplot as plt\n",
    "from matplotlib import cm\n",
    "import numpy as np\n",
    "import scipy.stats as stats"
   ]
  },
  {
   "cell_type": "code",
   "execution_count": 2,
   "metadata": {},
   "outputs": [],
   "source": [
    "def heatmap(data, labels, ax, colormap=\"Wistia\", c=\"b\", title=\"\"):   \n",
    "    im = ax.imshow(data, cmap=colormap)\n",
    "    n = len(labels)\n",
    "    ax.set_xticks(np.arange(n))\n",
    "    ax.set_yticks(np.arange(n))\n",
    "    ax.set_xticklabels(labels)\n",
    "    ax.set_yticklabels(labels)\n",
    "\n",
    "    for i in range(n):\n",
    "        for j in range(n):\n",
    "            text = ax.text(j, i, data[i, j], ha=\"center\", va=\"center\", color=c, size='x-large')\n",
    "        \n",
    "    if title != \"\":\n",
    "        ax.set_title(title)\n",
    "\n",
    "def confusion_matrix(thresh = 160):\n",
    "    mu1 = 130\n",
    "    mu2= 200\n",
    "    sigma = 20\n",
    "    xs = [np.linspace(m-3.5*sigma, m+3.5*sigma, 100) for m in [mu1, mu2]]\n",
    "    fig, axs= plt.subplots(1, 2, figsize=(15,5))\n",
    "\n",
    "    for x, m in zip(xs,[mu1, mu2]):\n",
    "        y = stats.norm.pdf(x, m, sigma)\n",
    "        axs[0].plot(x, y)\n",
    "        axs[0].fill_between(x, y, alpha=0.5)\n",
    "    axs[0].axvline(x=thresh, c='k')\n",
    "    \n",
    "    positive = np.random.normal(mu2, sigma, 50)\n",
    "    negative = np.random.normal(mu1, sigma, 50)\n",
    "    \n",
    "    mat = np.zeros((2,2), dtype=np.long)\n",
    "    mat[0,0] = sum(positive >= thresh)\n",
    "    mat[0,1] = sum(negative >= thresh)\n",
    "    mat[1,0] = sum(positive < thresh)\n",
    "    mat[1,1] = sum(negative < thresh)\n",
    "    accuracy = (mat[0,0] + mat[1,1])/np.sum(mat)\n",
    "    \n",
    "    heatmap(mat, ['positive', 'negative'], axs[1], colormap=\"YlGn\", c=\"r\", title=\"accuracy: \"+str(accuracy))"
   ]
  },
  {
   "cell_type": "markdown",
   "metadata": {},
   "source": [
    "# Sygnały III"
   ]
  },
  {
   "cell_type": "markdown",
   "metadata": {},
   "source": [
    "## Percepcja dźwięku"
   ]
  },
  {
   "cell_type": "markdown",
   "metadata": {},
   "source": [
    "### Efekt McGurka"
   ]
  },
  {
   "cell_type": "code",
   "execution_count": 3,
   "metadata": {},
   "outputs": [
    {
     "data": {
      "image/jpeg": "[encoded data removed]",
      "text/html": [
       "\n",
       "        <iframe\n",
       "            width=\"800\"\n",
       "            height=\"500\"\n",
       "            src=\"https://www.youtube.com/embed/PWGeUztTkRA\"\n",
       "            frameborder=\"0\"\n",
       "            allowfullscreen\n",
       "        ></iframe>\n",
       "        "
      ],
      "text/plain": [
       "<IPython.lib.display.YouTubeVideo at 0x1f251bc92b0>"
      ]
     },
     "execution_count": 3,
     "metadata": {},
     "output_type": "execute_result"
    }
   ],
   "source": [
    "YouTubeVideo('PWGeUztTkRA', width=800, height=500)"
   ]
  },
  {
   "cell_type": "markdown",
   "metadata": {},
   "source": [
    "[https://www.illusionsindex.org/i/mcgurk-effect](https://www.illusionsindex.org/i/mcgurk-effect)"
   ]
  },
  {
   "cell_type": "markdown",
   "metadata": {},
   "source": [
    "### Percepcja częstotliwości"
   ]
  },
  {
   "cell_type": "markdown",
   "metadata": {},
   "source": [
    "![Ślimak](https://www.ncbi.nlm.nih.gov/books/NBK10946/bin/ch13f5.jpg)"
   ]
  },
  {
   "cell_type": "markdown",
   "metadata": {},
   "source": [
    "[https://www.ncbi.nlm.nih.gov/books/NBK10946/](https://www.ncbi.nlm.nih.gov/books/NBK10946/)"
   ]
  },
  {
   "cell_type": "code",
   "execution_count": 4,
   "metadata": {},
   "outputs": [
    {
     "data": {
      "text/html": [
       "<video src=\"http://www.auditoryneuroscience.com/sites/default/files/BMtocataAndFugue.mp4\" controls  >\n",
       "      Your browser does not support the <code>video</code> element.\n",
       "    </video>"
      ],
      "text/plain": [
       "<IPython.core.display.Video object>"
      ]
     },
     "execution_count": 4,
     "metadata": {},
     "output_type": "execute_result"
    }
   ],
   "source": [
    "Video('http://www.auditoryneuroscience.com/sites/default/files/BMtocataAndFugue.mp4')"
   ]
  },
  {
   "cell_type": "markdown",
   "metadata": {},
   "source": [
    "[http://www.auditoryneuroscience.com/ear/bm4_tocata_fugue](http://www.auditoryneuroscience.com/ear/bm4_tocata_fugue)"
   ]
  },
  {
   "cell_type": "markdown",
   "metadata": {},
   "source": [
    "### Barwa dźwięku"
   ]
  },
  {
   "cell_type": "markdown",
   "metadata": {},
   "source": [
    "![harmoniczne](https://upload.wikimedia.org/wikipedia/commons/b/b7/Harmonic_spectra_theoretical_x_y.png)"
   ]
  },
  {
   "cell_type": "markdown",
   "metadata": {},
   "source": [
    "[https://en.wikipedia.org/wiki/Timbre](https://en.wikipedia.org/wiki/Timbre)"
   ]
  },
  {
   "cell_type": "markdown",
   "metadata": {},
   "source": [
    "## Wytwarzanie mowy"
   ]
  },
  {
   "cell_type": "markdown",
   "metadata": {},
   "source": [
    "![artykulacja](https://athena.ecs.csus.edu/~changw/Sounds/SpeechSynth/pics/anatomy.png)"
   ]
  },
  {
   "cell_type": "markdown",
   "metadata": {},
   "source": [
    "[https://athena.ecs.csus.edu/~changw/Sounds/SpeechSynth/acoustics.html](https://athena.ecs.csus.edu/~changw/Sounds/SpeechSynth/acoustics.html)"
   ]
  },
  {
   "cell_type": "markdown",
   "metadata": {},
   "source": [
    "![ton krtaniowy](https://newt.phys.unsw.edu.au/jw/graphics/sourcefilter.GIF)"
   ]
  },
  {
   "cell_type": "markdown",
   "metadata": {},
   "source": [
    "[https://newt.phys.unsw.edu.au/jw/speechmodel.html](https://newt.phys.unsw.edu.au/jw/speechmodel.html)"
   ]
  },
  {
   "cell_type": "markdown",
   "metadata": {},
   "source": [
    "### Częstotliwość podstawowa tonu krtaniowego w mowie"
   ]
  },
  {
   "cell_type": "markdown",
   "metadata": {},
   "source": [
    "- Mężczyzni 85-180Hz\n",
    "- Kobiety 165-255Hz\n",
    "- Dzieci  250-300Hz"
   ]
  },
  {
   "cell_type": "markdown",
   "metadata": {},
   "source": [
    "## Przykladowe metody detekcji częstotliwości podstawowej"
   ]
  },
  {
   "cell_type": "markdown",
   "metadata": {},
   "source": [
    "### Harmonic Product Spectrum"
   ]
  },
  {
   "cell_type": "markdown",
   "metadata": {},
   "source": [
    "![hps](https://ccrma.stanford.edu/~pdelac/154/m154paper_files/image018.gif)"
   ]
  },
  {
   "cell_type": "markdown",
   "metadata": {},
   "source": [
    "[https://ccrma.stanford.edu/~pdelac/154/m154paper.htm](https://ccrma.stanford.edu/~pdelac/154/m154paper.htm)"
   ]
  },
  {
   "cell_type": "markdown",
   "metadata": {},
   "source": [
    "### Analiza cepstralna"
   ]
  },
  {
   "cell_type": "markdown",
   "metadata": {},
   "source": [
    "![cepstrum](http://vlab.amrita.edu/userfiles/7/image/speech/ex5/experiment6-theory-fig1.jpg)"
   ]
  },
  {
   "cell_type": "markdown",
   "metadata": {},
   "source": [
    "[http://vlab.amrita.edu/?sub=3&brch=164&sim=615&cnt=1](http://vlab.amrita.edu/?sub=3&brch=164&sim=615&cnt=1)"
   ]
  },
  {
   "cell_type": "markdown",
   "metadata": {},
   "source": [
    "## Funkcja okna"
   ]
  },
  {
   "cell_type": "markdown",
   "metadata": {},
   "source": [
    "![leakage](https://www.cs.put.poznan.pl/amensfelt/pub/leakage.png)"
   ]
  },
  {
   "cell_type": "markdown",
   "metadata": {},
   "source": [
    "## Macierz pomyłek"
   ]
  },
  {
   "cell_type": "code",
   "execution_count": 5,
   "metadata": {},
   "outputs": [
    {
     "data": {
      "application/vnd.jupyter.widget-view+json": {
       "model_id": "b54292b425844b389ed56a6a44aa3602",
       "version_major": 2,
       "version_minor": 0
      },
      "text/plain": [
       "interactive(children=(IntSlider(value=160, description='thresh', max=200, min=120), Output()), _dom_classes=('…"
      ]
     },
     "metadata": {},
     "output_type": "display_data"
    },
    {
     "data": {
      "text/plain": [
       "<function __main__.confusion_matrix(thresh=160)>"
      ]
     },
     "execution_count": 5,
     "metadata": {},
     "output_type": "execute_result"
    }
   ],
   "source": [
    "interact(confusion_matrix, thresh=(120,200,1))"
   ]
  },
  {
   "cell_type": "code",
   "execution_count": null,
   "metadata": {},
   "outputs": [],
   "source": []
  },
  {
   "cell_type": "code",
   "execution_count": null,
   "metadata": {},
   "outputs": [],
   "source": []
  },
  {
   "cell_type": "code",
   "execution_count": null,
   "metadata": {},
   "outputs": [],
   "source": []
  }
 ],
 "metadata": {
  "kernelspec": {
   "display_name": "Python 3",
   "language": "python",
   "name": "python3"
  },
  "language_info": {
   "codemirror_mode": {
    "name": "ipython",
    "version": 3
   },
   "file_extension": ".py",
   "mimetype": "text/x-python",
   "name": "python",
   "nbconvert_exporter": "python",
   "pygments_lexer": "ipython3",
   "version": "3.8.5"
  },
  "latex_envs": {
   "LaTeX_envs_menu_present": true,
   "autoclose": false,
   "autocomplete": true,
   "bibliofile": "biblio.bib",
   "cite_by": "apalike",
   "current_citInitial": 1,
   "eqLabelWithNumbers": true,
   "eqNumInitial": 1,
   "hotkeys": {
    "equation": "Ctrl-E",
    "itemize": "Ctrl-I"
   },
   "labels_anchors": false,
   "latex_user_defs": false,
   "report_style_numbering": false,
   "user_envs_cfg": false
  }
 },
 "nbformat": 4,
 "nbformat_minor": 4
}
